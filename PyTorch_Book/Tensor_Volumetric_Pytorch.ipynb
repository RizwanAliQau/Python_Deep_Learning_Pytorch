{
 "cells": [
  {
   "cell_type": "markdown",
   "metadata": {},
   "source": [
    "###### Volumetric \n",
    "You have an extra dimension, depth, after the\n",
    " channel dimension, leading to a 5D tensor of shape N x C x D x H x W. Load a sample CT scan by using the volread function in the imageio module, which\n",
    " takes a directory as argument and assembles all DICOM (Digital Imaging Communication and Storage) files10 in a series in a NumPy 3D array, as shown in the following listing"
   ]
  },
  {
   "cell_type": "markdown",
   "metadata": {},
   "source": [
    "import imageio\n",
    "dir_path = \"../data/p1ch4/volumetric-dicom/2-LUNG 3.0  B70f-04083\" \n",
    "vol_arr = imageio.volread(dir_path, 'DICOM') \n",
    "vol_arr.shape"
   ]
  },
  {
   "cell_type": "markdown",
   "metadata": {},
   "source": [
    "##### Conclusion:\n",
    "You covered a lot of ground in this chapter. You learned to load the most common\n",
    " types of data and shape them up for consumption by a neural network. There are\n",
    " more data formats in the wild than we could hope to describe in a single volume, of\n",
    " course. Some, like medical histories, are too complex to cover in this volume. For the\n",
    " interested reader, however, we do provide short examples of audio and video tensor\n",
    " creation in bonus Jupyter notebooks in our code repository.\n",
    " \n",
    "  https://github.com/deep-learning-with-pytorch/dlwpt-code/tree/master/p1ch4 "
   ]
  },
  {
   "cell_type": "markdown",
   "metadata": {},
   "source": [
    "##### Summary :\n",
    " Neural networks require data to be represented as multidimensional numerical\n",
    " tensors, often 32-bit floating-point. \n",
    "\n",
    " PyTorch libraries interact with the Python standard library\n",
    " and surrounding ecosystem, loading the most common types of data and converting them to PyTorch tensors is convenient.\n",
    "\n",
    " In general, PyTorch expects data to be laid out along specific dimensions,\n",
    " according to the model architecture (such as convolutional versus recurrent).\n",
    " Data reshaping can be achieved effectively with the PyTorch tensor API. \n",
    "\n",
    " Spreadsheets can be straightforward to convert to tensors. Categorical- and ordinal-valued columns should be handled differently from interval-valued columns. \n",
    "\n",
    " Text or categorical data can be encoded to a one-hot representation through\n",
    " the use of dictionaries. \n",
    "\n",
    " Images can have one or many channels. The most common are the red, green,\n",
    " and blue channels of typical digital photos.\n",
    "\n",
    " Single-channel data formats sometimes omit an explicit channel \n",
    "dimension. \n",
    "\n",
    " Volumetric data is similar to 2D image data, with the exception of \n",
    "adding a\n",
    " third dimension: depth. \n",
    "\n",
    " Many images have a per-channel bit depth of 8, though 12 and 16 bits per channel are not uncommon. These bit-depths can be stored in a 32-bit floating-point\n",
    " number without loss of precision."
   ]
  },
  {
   "cell_type": "markdown",
   "metadata": {},
   "source": [
    "<<<<<<<<<<<<<<<<<<<<<<<<<<<<<<< End Ch#3 >>>>>>>>>>>>>>>>>>>>>>>>>>>"
   ]
  },
  {
   "cell_type": "code",
   "execution_count": null,
   "metadata": {},
   "outputs": [],
   "source": []
  }
 ],
 "metadata": {
  "kernelspec": {
   "display_name": "Python 3",
   "language": "python",
   "name": "python3"
  },
  "language_info": {
   "codemirror_mode": {
    "name": "ipython",
    "version": 3
   },
   "file_extension": ".py",
   "mimetype": "text/x-python",
   "name": "python",
   "nbconvert_exporter": "python",
   "pygments_lexer": "ipython3",
   "version": "3.6.9"
  }
 },
 "nbformat": 4,
 "nbformat_minor": 2
}
